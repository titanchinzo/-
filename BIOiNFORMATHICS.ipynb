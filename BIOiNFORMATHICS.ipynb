{
  "cells": [
    {
      "cell_type": "markdown",
      "metadata": {
        "id": "view-in-github",
        "colab_type": "text"
      },
      "source": [
        "<a href=\"https://colab.research.google.com/github/titanchinzo/-/blob/main/BIOiNFORMATHICS.ipynb\" target=\"_parent\"><img src=\"https://colab.research.google.com/assets/colab-badge.svg\" alt=\"Open In Colab\"/></a>"
      ]
    },
    {
      "cell_type": "markdown",
      "metadata": {
        "id": "AxUJFxNDfy-z"
      },
      "source": [
        "Бодлого 3А"
      ]
    },
    {
      "cell_type": "code",
      "execution_count": null,
      "metadata": {
        "colab": {
          "base_uri": "https://localhost:8080/"
        },
        "id": "68oZkscPf5iy",
        "outputId": "8258d42d-6b3e-4cd1-d808-c38201175e8c"
      },
      "outputs": [
        {
          "name": "stdout",
          "output_type": "stream",
          "text": [
            "°C =1\n",
            "°F= 33.8\n"
          ]
        }
      ],
      "source": [
        "a= int(input(\"°C =\"))\n",
        "print (\"°F=\",(a*1.8)+32)"
      ]
    },
    {
      "cell_type": "markdown",
      "metadata": {
        "id": "6Xjp3oFugKrr"
      },
      "source": [
        "Бодлого 3B"
      ]
    },
    {
      "cell_type": "code",
      "execution_count": null,
      "metadata": {
        "colab": {
          "base_uri": "https://localhost:8080/"
        },
        "id": "MxrbNUdPgi1b",
        "outputId": "8a825873-8e13-4d70-a663-6484a12abeaa"
      },
      "outputs": [
        {
          "name": "stdout",
          "output_type": "stream",
          "text": [
            "A=3\n",
            "B=4\n",
            "5.0\n"
          ]
        }
      ],
      "source": [
        "import math\n",
        "a=int(input(\"A=\"))\n",
        "b=int(input(\"B=\"))\n",
        "print (math.sqrt(pow(a,2)+pow(b,2)))"
      ]
    },
    {
      "cell_type": "markdown",
      "metadata": {
        "id": "CsnxyMyJhmrt"
      },
      "source": [
        "Бодлого 3C"
      ]
    },
    {
      "cell_type": "code",
      "execution_count": null,
      "metadata": {
        "colab": {
          "base_uri": "https://localhost:8080/"
        },
        "id": "OG04-IclmxgJ",
        "outputId": "a1e48863-b9fb-4236-f85f-191e06ea4ba8"
      },
      "outputs": [
        {
          "name": "stdout",
          "output_type": "stream",
          "text": [
            "haha\n",
            "HAHA\n"
          ]
        }
      ],
      "source": [
        "name =input()\n",
        "print(name.upper())"
      ]
    },
    {
      "cell_type": "markdown",
      "metadata": {
        "id": "JK8KweshnYrs"
      },
      "source": [
        "Бодлого 3D"
      ]
    },
    {
      "cell_type": "code",
      "execution_count": null,
      "metadata": {
        "colab": {
          "base_uri": "https://localhost:8080/"
        },
        "id": "cdEOqfN9nhl7",
        "outputId": "85176ce8-bac6-4b86-cec5-662aca9aef91"
      },
      "outputs": [
        {
          "name": "stdout",
          "output_type": "stream",
          "text": [
            "\n"
          ]
        }
      ],
      "source": [
        "f = open(\"hehehe.txt\", \"a\")\n",
        "f.close()\n",
        "f = open(\"hehehe.txt\", \"r\")\n",
        "print((f.read()).upper())\n",
        "f.close()"
      ]
    },
    {
      "cell_type": "markdown",
      "metadata": {
        "id": "8EV7vl4rvNKe"
      },
      "source": [
        "Бодлого 3E"
      ]
    },
    {
      "cell_type": "code",
      "execution_count": null,
      "metadata": {
        "colab": {
          "base_uri": "https://localhost:8080/"
        },
        "id": "KpZTX9VgwFBr",
        "outputId": "69f23bd0-b6bc-4d92-ca97-bb450ef74ce8"
      },
      "outputs": [
        {
          "output_type": "stream",
          "name": "stdout",
          "text": [
            "Enter number:1\n",
            "The number is a palindrome!\n"
          ]
        }
      ],
      "source": [
        "a= int(input())\n",
        "x=int(a)\n",
        "c=int(0)\n",
        "while(a>0):\n",
        "    c=c*10+a%10\n",
        "    a/=10\n",
        "print (c)\n",
        "if (c==x):\n",
        "    print (\"YES\")\n",
        "else: print (\"NO\")"
      ]
    },
    {
      "cell_type": "markdown",
      "metadata": {
        "id": "33deb1pCyD-B"
      },
      "source": [
        "Бодлого 3F"
      ]
    },
    {
      "cell_type": "code",
      "execution_count": null,
      "metadata": {
        "id": "E2NJvNwGyG-k",
        "colab": {
          "base_uri": "https://localhost:8080/"
        },
        "outputId": "d545304b-34b1-4444-e36d-7e9ad376005e"
      },
      "outputs": [
        {
          "output_type": "stream",
          "name": "stdout",
          "text": [
            "1too 1\n",
            "2too 2\n",
            "3too 3\n",
            "max  3\n",
            "min 1\n"
          ]
        }
      ],
      "source": [
        "number1 = int(input('1too '))\n",
        "number2 = int(input('2too '))\n",
        "number3 = int(input('3too '))\n",
        "lst = [number1, number2, number3]\n",
        "print(\"max \", max(lst))\n",
        "print(\"min\", min(lst))"
      ]
    },
    {
      "cell_type": "markdown",
      "source": [
        "Бодлого 3G"
      ],
      "metadata": {
        "id": "ibU2Co5iKUlz"
      }
    },
    {
      "cell_type": "code",
      "source": [
        "def findIntersection(intervals, N):\n",
        "    # First interval\n",
        "    l = intervals[0][0]\n",
        "    r = intervals[0][1]\n",
        "\n",
        "    # Check rest of the intervals\n",
        "    # and find the intersection\n",
        "    for i in range(1, N):\n",
        "\n",
        "        # If no intersection exists\n",
        "        if (intervals[i][0] > r or intervals[i][1] < l):\n",
        "            print(-1)\n",
        "\n",
        "        # Else update the intersection\n",
        "        else:\n",
        "            l = max(l, intervals[i][0])\n",
        "            r = min(r, intervals[i][1])\n",
        "\n",
        "    print( l,  r,)\n",
        "    print (intervals[0][0],intervals[1][1])\n",
        "# Driver code\n",
        "intervals = [  [4, 10],  [5, 20] ]\n",
        "N = len(intervals)\n",
        "findIntersection(intervals, N)"
      ],
      "metadata": {
        "colab": {
          "base_uri": "https://localhost:8080/"
        },
        "id": "entUx-3dKWXA",
        "outputId": "aaac08f6-8a40-41ed-d1ba-28febd4b6ea1"
      },
      "execution_count": null,
      "outputs": [
        {
          "output_type": "stream",
          "name": "stdout",
          "text": [
            "5 10\n",
            "4 20\n"
          ]
        }
      ]
    },
    {
      "cell_type": "markdown",
      "source": [
        "Бодлого 3H"
      ],
      "metadata": {
        "id": "8NKtOaqpIS_k"
      }
    },
    {
      "cell_type": "code",
      "source": [
        "if __name__ == '__main__':\n",
        "    mylist= [2.0, 5, 6, 5, 4, 5, 5, 5, 6, 3, 2, 1]\n",
        "    s= 0\n",
        "for i in range(len(mylist)):\n",
        "        s+=mylist.pop()\n",
        "print(s)\n",
        "\n"
      ],
      "metadata": {
        "colab": {
          "base_uri": "https://localhost:8080/"
        },
        "id": "CAnMGhwlIWg3",
        "outputId": "8db63c10-eb6b-4bf9-e556-d9d11a4bd88d"
      },
      "execution_count": 2,
      "outputs": [
        {
          "output_type": "stream",
          "name": "stdout",
          "text": [
            "49.0\n"
          ]
        }
      ]
    },
    {
      "cell_type": "markdown",
      "source": [
        "Бодлого 3I"
      ],
      "metadata": {
        "id": "ptOUyURdGrR8"
      }
    },
    {
      "cell_type": "code",
      "source": [
        "if __name__ == '__main__':\n",
        "    s = int(0)\n",
        "    mylist= [20, 5, 60, 5, 49, 500, 50, 5, 600, 3, 21, 10]\n",
        "    CopyList=mylist.copy()\n",
        "    CopyList.sort()\n",
        "    max=CopyList.pop()\n",
        "    while len(CopyList)>0:\n",
        "        x=CopyList.pop()\n",
        "        z=x\n",
        "        if x%10==0:\n",
        "            s+=x\n",
        "            if(max<x):\n",
        "                max=x\n",
        "    print(\"max=\",max)\n",
        "    print(\"Sum=\",s+max)"
      ],
      "metadata": {
        "colab": {
          "base_uri": "https://localhost:8080/"
        },
        "id": "GMN901L-GtwW",
        "outputId": "d2a17b8b-59b8-417f-d43b-68e7720f8dff"
      },
      "execution_count": 4,
      "outputs": [
        {
          "output_type": "stream",
          "name": "stdout",
          "text": [
            "max= 600\n",
            "Sum= 1240\n"
          ]
        }
      ]
    },
    {
      "cell_type": "markdown",
      "source": [
        "Бодлого 3J"
      ],
      "metadata": {
        "id": "2rnU8U0WST_z"
      }
    },
    {
      "cell_type": "code",
      "source": [
        "if __name__ == '__main__':\n",
        "    s = int(0)\n",
        "    mylist= [20, 5, 60, 5, 49, 500, 50, 5, 600, 3, 21, 10]\n",
        "    mylist.sort()\n",
        "    mylist.reverse()\n",
        "    print(mylist)"
      ],
      "metadata": {
        "colab": {
          "base_uri": "https://localhost:8080/"
        },
        "id": "kUzl4gFNSWpk",
        "outputId": "3d3bab0c-1ce7-43c2-dc6d-fb351a5436e9"
      },
      "execution_count": 5,
      "outputs": [
        {
          "output_type": "stream",
          "name": "stdout",
          "text": [
            "[600, 500, 60, 50, 49, 21, 20, 10, 5, 5, 5, 3]\n"
          ]
        }
      ]
    },
    {
      "cell_type": "markdown",
      "source": [
        "Бодлого 4"
      ],
      "metadata": {
        "id": "29Yg_NLSSfRf"
      }
    },
    {
      "cell_type": "code",
      "source": [
        ""
      ],
      "metadata": {
        "id": "qgmqr4GHSiVx"
      },
      "execution_count": null,
      "outputs": []
    },
    {
      "cell_type": "markdown",
      "source": [
        "Бодолго 5"
      ],
      "metadata": {
        "id": "gHS0oQo1zV8V"
      }
    },
    {
      "cell_type": "code",
      "source": [
        "import  math\n",
        "def print_hi(a,b):\n",
        "    # primeter\n",
        "    print(\"P=\",2 * (a + b))\n",
        "    # diognal\n",
        "    if a>-1 and b>-1:\n",
        "        print(\"D=\",math.sqrt(math.pow(a, 2) + math.pow(b, 2)))\n",
        "    #  s= talbai\n",
        "    print(\"S=\",a*b)\n",
        "\n",
        "if __name__ == '__main__':\n",
        "    x= int(input())\n",
        "    y = int(input())\n",
        "    print_hi(x,y)\n"
      ],
      "metadata": {
        "colab": {
          "base_uri": "https://localhost:8080/"
        },
        "id": "r5l5tSRKzbFe",
        "outputId": "e3c04ef9-4ff8-459a-f949-4b9b2eff6a5f"
      },
      "execution_count": 1,
      "outputs": [
        {
          "output_type": "stream",
          "name": "stdout",
          "text": [
            "3\n",
            "4\n",
            "P= 14\n",
            "D= 5.0\n",
            "S= 12\n"
          ]
        }
      ]
    },
    {
      "cell_type": "markdown",
      "source": [
        "Бодолго 6"
      ],
      "metadata": {
        "id": "PKvRoZTrSmCH"
      }
    },
    {
      "cell_type": "code",
      "source": [
        ""
      ],
      "metadata": {
        "id": "Rtiylms9Soo5"
      },
      "execution_count": null,
      "outputs": []
    }
  ],
  "metadata": {
    "colab": {
      "name": "BIOINFORMATHICS.ipynb",
      "provenance": [],
      "collapsed_sections": [],
      "toc_visible": true,
      "authorship_tag": "ABX9TyOQcFRsn4kFjCMu+oQNNWvT",
      "include_colab_link": true
    },
    "kernelspec": {
      "display_name": "Python 3",
      "name": "python3"
    },
    "language_info": {
      "name": "python"
    }
  },
  "nbformat": 4,
  "nbformat_minor": 0
}